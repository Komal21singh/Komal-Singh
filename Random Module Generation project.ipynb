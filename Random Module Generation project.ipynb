{
 "cells": [
  {
   "cell_type": "markdown",
   "id": "f5459ec5",
   "metadata": {},
   "source": [
    "# Random Module Generation project\n",
    "(# Rock vs Paper --> Paper wins,\n",
    "Rock vs Scissor--> Rock wins,\n",
    "Paper vs Scissor--> Scissor Wins.\n",
    "\n",
    "\n"
   ]
  },
  {
   "cell_type": "code",
   "execution_count": null,
   "id": "bde4d7f4",
   "metadata": {},
   "outputs": [
    {
     "name": "stdout",
     "output_type": "stream",
     "text": [
      "# Enter a choice (rock, paper, scissors):-   paper\n",
      "\n",
      "You choose paper, computer choose scissors.\n",
      "\n",
      "Scissors cuts paper! You lose.\n",
      "# Enter a choice (rock, paper, scissors):-   rock\n",
      "\n",
      "You choose rock, computer choose scissors.\n",
      "\n",
      "Rock smashes scissors! You win!\n",
      "# Enter a choice (rock, paper, scissors):-   paper\n",
      "\n",
      "You choose paper, computer choose rock.\n",
      "\n",
      "Paper covers rock! You win!\n",
      "# Enter a choice (rock, paper, scissors):-   scissors\n",
      "\n",
      "You choose scissors, computer choose rock.\n",
      "\n",
      "Rock smashes scissors! You lose.\n",
      "# Enter a choice (rock, paper, scissors):-   rock\n",
      "\n",
      "You choose rock, computer choose scissors.\n",
      "\n",
      "Rock smashes scissors! You win!\n",
      "# Enter a choice (rock, paper, scissors):-   rock\n",
      "\n",
      "You choose rock, computer choose paper.\n",
      "\n",
      "Paper covers rock! You lose.\n"
     ]
    }
   ],
   "source": [
    "import random\n",
    "\n",
    "while True:\n",
    "    user_choice = input(\"# Enter a choice (rock, paper, scissors):-   \")\n",
    "    possible_actions = [\"rock\", \"paper\", \"scissors\"]\n",
    "    computer_choice = random.choice(possible_actions)\n",
    "    print(f\"\\nYou choose {user_choice}, computer choose {computer_choice}.\\n\")\n",
    "\n",
    "    if user_choice == computer_choice:\n",
    "        print(f\"Both players selected {user_choice}. It's a tie!\")\n",
    "    elif user_choice == \"rock\":\n",
    "        if computer_choice == \"scissors\":\n",
    "            print(\"Rock smashes scissors! You win!\")\n",
    "        else:\n",
    "            print(\"Paper covers rock! You lose.\")\n",
    "    elif user_choice == \"paper\":\n",
    "        if computer_choice == \"rock\":\n",
    "            print(\"Paper covers rock! You win!\")\n",
    "        else:\n",
    "            print(\"Scissors cuts paper! You lose.\")\n",
    "    elif user_choice == \"scissors\":\n",
    "        if computer_choice == \"paper\":\n",
    "            print(\"Scissors cuts paper! You win!\")\n",
    "        else:\n",
    "            print(\"Rock smashes scissors! You lose.\")\n",
    "        "
   ]
  },
  {
   "cell_type": "code",
   "execution_count": null,
   "id": "94f4b38d",
   "metadata": {},
   "outputs": [],
   "source": []
  }
 ],
 "metadata": {
  "kernelspec": {
   "display_name": "Python 3 (ipykernel)",
   "language": "python",
   "name": "python3"
  },
  "language_info": {
   "codemirror_mode": {
    "name": "ipython",
    "version": 3
   },
   "file_extension": ".py",
   "mimetype": "text/x-python",
   "name": "python",
   "nbconvert_exporter": "python",
   "pygments_lexer": "ipython3",
   "version": "3.9.12"
  }
 },
 "nbformat": 4,
 "nbformat_minor": 5
}
