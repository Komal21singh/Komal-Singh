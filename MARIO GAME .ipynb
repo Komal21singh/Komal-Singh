{
 "cells": [
  {
   "cell_type": "code",
   "execution_count": 24,
   "id": "32d874b5",
   "metadata": {},
   "outputs": [
    {
     "name": "stdout",
     "output_type": "stream",
     "text": [
      "Mario Game Rule as follows: \n",
      "\n",
      "Punch->5 points \n",
      "kick->10 points \n",
      "knockout->15 points \n",
      "Stabbed-> -1 \n",
      "Victory-> 20 points needed \n",
      "\n",
      "\n",
      "Your Name:- Komal Singh\n",
      "Initial Score:- 0\n",
      "Initial Life:- 3\n"
     ]
    }
   ],
   "source": [
    "class character():\n",
    "\n",
    "    def __init__(self,name):\n",
    "        self.name=name\n",
    "        self.__score=0\n",
    "        self.__life=3\n",
    "    \n",
    "    def user(self):\n",
    "        self.user=input(\"Player name:-\")\n",
    "    \n",
    "    def gameon(self):\n",
    "        print(\"Get ready to Play\",self.user)    \n",
    "\n",
    "    def displaylife(self):\n",
    "        return self.__life\n",
    "    \n",
    "    def displayscore(self):\n",
    "        return self.__score\n",
    "    \n",
    "    def matchstatus(self):\n",
    "        win=20\n",
    "        if self.__score>=win:\n",
    "            print(\"Victory\")\n",
    "        else:\n",
    "            print(\"Game Over\")\n",
    "    \n",
    "    def punch(self):\n",
    "        self.__score=self.__score+5\n",
    "    def kick(self):\n",
    "        self.__score=self.__score+10\n",
    "    def knockout(self):\n",
    "        self.__score=self.__score+15\n",
    "    def stabbed(self):\n",
    "        self.__life=self.__life -1\n",
    "        \n",
    "    def Rules(self):\n",
    "        print(\"Mario Game Rule as follows: \\n\\n\"+\"Punch->5 points \\n\"+\"kick->10 points \\n\"+ \"knockout->15 points \\n\"+ \"Stabbed-> -1 \\n\" \"Victory-> 20 points needed \\n\\n\")\n",
    "        \n",
    "    def scores(self):\n",
    "        print(\"Your Name:-\",self.name)\n",
    "        print(\"Initial Score:-\",self.displayscore())\n",
    "        print(\"Initial Life:-\",self.displaylife())\n",
    "        \n",
    "Mario=character(\"Komal Singh\")\n",
    "Mario.Rules()  \n",
    "\n",
    "Mario.scores()"
   ]
  },
  {
   "cell_type": "code",
   "execution_count": 11,
   "id": "e2a5a127",
   "metadata": {},
   "outputs": [
    {
     "name": "stdout",
     "output_type": "stream",
     "text": [
      "Player name:-Komal Singh\n"
     ]
    }
   ],
   "source": [
    "Mario.user()"
   ]
  },
  {
   "cell_type": "code",
   "execution_count": 12,
   "id": "51accf9d",
   "metadata": {},
   "outputs": [
    {
     "name": "stdout",
     "output_type": "stream",
     "text": [
      "Your Name:- Komal Singh\n",
      "Initial Score:- 0\n",
      "Initial Life:- 3\n"
     ]
    }
   ],
   "source": [
    "Mario.scores()"
   ]
  },
  {
   "cell_type": "code",
   "execution_count": 13,
   "id": "da659b23",
   "metadata": {},
   "outputs": [],
   "source": [
    "Mario.punch()"
   ]
  },
  {
   "cell_type": "raw",
   "id": "1a19b7fe",
   "metadata": {},
   "source": [
    "Mario.scores()"
   ]
  },
  {
   "cell_type": "code",
   "execution_count": 18,
   "id": "6e2b7bf4",
   "metadata": {},
   "outputs": [],
   "source": [
    "Mario.kick()"
   ]
  },
  {
   "cell_type": "code",
   "execution_count": 19,
   "id": "1ead7612",
   "metadata": {},
   "outputs": [
    {
     "name": "stdout",
     "output_type": "stream",
     "text": [
      "Your Name:- Komal Singh\n",
      "Initial Score:- 15\n",
      "Initial Life:- 3\n"
     ]
    }
   ],
   "source": [
    "Mario.scores()"
   ]
  },
  {
   "cell_type": "code",
   "execution_count": 20,
   "id": "bad001e8",
   "metadata": {},
   "outputs": [],
   "source": [
    "Mario.knockout()"
   ]
  },
  {
   "cell_type": "code",
   "execution_count": 21,
   "id": "858ba8d5",
   "metadata": {},
   "outputs": [
    {
     "name": "stdout",
     "output_type": "stream",
     "text": [
      "Your Name:- Komal Singh\n",
      "Initial Score:- 30\n",
      "Initial Life:- 3\n"
     ]
    }
   ],
   "source": [
    "Mario.scores()"
   ]
  },
  {
   "cell_type": "code",
   "execution_count": 23,
   "id": "480d2a31",
   "metadata": {},
   "outputs": [
    {
     "name": "stdout",
     "output_type": "stream",
     "text": [
      "Victory\n"
     ]
    }
   ],
   "source": [
    "Mario.matchstatus()"
   ]
  },
  {
   "cell_type": "raw",
   "id": "a9525d21",
   "metadata": {},
   "source": []
  }
 ],
 "metadata": {
  "kernelspec": {
   "display_name": "Python 3 (ipykernel)",
   "language": "python",
   "name": "python3"
  },
  "language_info": {
   "codemirror_mode": {
    "name": "ipython",
    "version": 3
   },
   "file_extension": ".py",
   "mimetype": "text/x-python",
   "name": "python",
   "nbconvert_exporter": "python",
   "pygments_lexer": "ipython3",
   "version": "3.9.12"
  }
 },
 "nbformat": 4,
 "nbformat_minor": 5
}
